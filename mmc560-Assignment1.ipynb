{
 "cells": [
  {
   "cell_type": "markdown",
   "metadata": {},
   "source": [
    "# Intelligent Systems 2020: First practical assignment \n",
    "## Uninformed Search "
   ]
  },
  {
   "cell_type": "markdown",
   "metadata": {},
   "source": [
    "Your name: Mark Melnic\n",
    "\n",
    "Your VUNetID: mmc560\n",
    "\n",
    "If you do not provide your name and VUNetID we will not accept your submission. \n",
    "\n",
    "### Learning objectives\n",
    "At the end of this exercise you should be able to understand the implementations of the basic algorithms for uninformed search, BFS, and DFS. You should be able to: \n",
    "\n",
    "1. Understand the algorithms (be able to explain in your own words) \n",
    "2. Follow the individual steps of the algorithms \n",
    "3. Make small modifications of the code to see the effect on the search algorithms\n",
    "4. Make small adaptations to the algorithm to study the computational properties\n",
    "\n",
    "### Practicalities\n",
    "\n",
    "Follow this Notebook step-by-step. \n",
    "\n",
    "Of course, you can do the exercises in any Programming Editor of your liking. \n",
    "But you do not have to. Feel free to simply write code in the Notebook. Please use your studentID+Assignment2.ipynb as the name of the \n",
    "Notebook.  \n",
    "\n",
    "Note: unlike the courses dedicated to programming we will not evaluate the style of the programs. But we will, however, test your programs on other data that we provide, and your program should give the correct output to the test-data as well.\n",
    "\n",
    "As was mentioned, the assignment is graded as pass/fail. To pass you need to have either a full working code or an explanation of what you tried and what didn't work for the tasks that you were unable to complete (you can use multi-line comments or a text cell).\n",
    "\n",
    "## Initialising \n",
    "\n",
    "First, let us make sure the necessary packages are installed, and imported. Run the following code:"
   ]
  },
  {
   "cell_type": "code",
   "execution_count": null,
   "metadata": {},
   "outputs": [],
   "source": [
    "import sys\n",
    "!{sys.executable} -m pip install numpy\n",
    "import datetime\n",
    "import numpy as np\n",
    "from numpy import random\n",
    "from collections import deque\n",
    "\n",
    "from utils import *\n",
    "\n",
    "# This might produce a warning that numpy is already installed. "
   ]
  },
  {
   "cell_type": "markdown",
   "metadata": {},
   "source": [
    "## Starting your first game"
   ]
  },
  {
   "cell_type": "code",
   "execution_count": null,
   "metadata": {},
   "outputs": [],
   "source": [
    "HAND_SIZE = 6\n",
    "STUDENT_NUMBER = 2701279"
   ]
  },
  {
   "cell_type": "markdown",
   "metadata": {},
   "source": [
    "With the constant HAND_SIZE we decide how many cards we want in our hand. \n",
    "By default it is set to 5, you can change it to any hand size, \n",
    "do keep in mind that the higher the number of cards in your hand, \n",
    "the more branches in the search tree there are, and the longer it will take to run.\n",
    "\n",
    "Your student number is used to set a random seed.\n",
    "There are situations imaginable where you want a pseudo random selection (for example when debugging it's nice to always work with the same values)\n",
    "In short, the seed ensures that you get a pseudo random distribution that will always be the same when you re-run the code.\n",
    "It is a random distribution because you don't have to hard code them in yourself, \n",
    "but it is not random in the sense that the next time you run it you get different cards!\n",
    "For more information on pseudo random number generators, \n",
    "check out https://www.geeksforgeeks.org/pseudo-random-number-generator-prng/."
   ]
  },
  {
   "cell_type": "markdown",
   "metadata": {},
   "source": [
    "### Task 1\n",
    "\n",
    "You may wonder how the cards for this game are represented. \n",
    "Go to utils and find out in which variable this information is found, print this variable below:\n"
   ]
  },
  {
   "cell_type": "code",
   "execution_count": null,
   "metadata": {},
   "outputs": [],
   "source": [
    "print(representation)"
   ]
  },
  {
   "cell_type": "markdown",
   "metadata": {},
   "source": [
    "## Some support functions"
   ]
  },
  {
   "cell_type": "markdown",
   "metadata": {},
   "source": [
    "Next, there are some functions we need for the implementation. Try to get the gist of what they do, but if you do not understand fully, don't worry. The first one tests whether a move is valid (so whether a card follows suit, or has the same value). The second is a helper function that checks whether two cards have the same suit, and the third function checks whether two cards have the same value. The last one makes a random choice of cards in the hands. \n",
    "\n",
    "We don't expect you to fully understand the coding behind these functions, however, if you are interested you might find the following link useful: https://www.programiz.com/python-programming/matrix. Take a look at how Python Matrices are created and how to access rows and columns. "
   ]
  },
  {
   "cell_type": "code",
   "execution_count": null,
   "metadata": {},
   "outputs": [],
   "source": [
    "def valid_move(cardA, cardB):\n",
    "    #print(\"validMove: comparing \" + str(cardA) + \" to \" + str(cardB)) UNCOMMENT THIS TO SEE WHICH CARDS ARE BEING COMPARED\n",
    "    g = np.arange(20).reshape(5, 4) #this produces the same grid as the representation, for the purpose of checking moves\n",
    "    if check_value(cardA, cardB, g):\n",
    "        return True\n",
    "    elif check_suit(cardA, cardB, g):\n",
    "        return True\n",
    "    else:\n",
    "        #print(\"validMove: No move found\")\n",
    "        return False\n",
    "\n",
    "def check_suit(cardA, cardB, grid):\n",
    "    r, c = grid.shape\n",
    "    for i in range(c):\n",
    "        if np.any(grid[:, i] == cardA) and np.any(grid[:, i] == cardB):\n",
    "            return True\n",
    "\n",
    "def check_value(cardA, cardB, grid):\n",
    "    r, c = grid.shape\n",
    "    for i in range(r):\n",
    "        if np.any(grid[i] == cardA) and np.any(grid[i] == cardB):\n",
    "            return True\n",
    "\n",
    "def pick_cards(seed, size):\n",
    "    random.seed(seed)\n",
    "    cards = np.random.choice(20, (size*2), replace = False)\n",
    "    leftHand = cards[:size]\n",
    "    rightHand = cards[size:]\n",
    "    return (leftHand, rightHand)"
   ]
  },
  {
   "cell_type": "markdown",
   "metadata": {},
   "source": [
    "## Main Search algorithms"
   ]
  },
  {
   "cell_type": "markdown",
   "metadata": {},
   "source": [
    "Now it is time to define BFS. Try to understand the implementation. It is as close to the pseudocode presented in class as possible.\n"
   ]
  },
  {
   "cell_type": "code",
   "execution_count": null,
   "metadata": {},
   "outputs": [],
   "source": [
    "def breadth_first_tree_search(problem):\n",
    "    \"\"\"\n",
    "    Search the shallowest nodes in the search tree first.\n",
    "    Search through the successors of a problem to find a goal.\n",
    "    The argument fringe should be an empty queue.\n",
    "    Repeats infinitely in case of loops.\n",
    "    \"\"\"\n",
    "\n",
    "    fringe = deque([Node(problem.initial)])  # FIFO queue\n",
    "    while fringe:\n",
    "        node = fringe.popleft()\n",
    "        if problem.goal_test(node.state):\n",
    "            print(\"###########\")\n",
    "            print(\"success!\")\n",
    "            print(\"The solution is: {}\".format(node.solution()))\n",
    "            return node\n",
    "        fringe.extend(node.expand(problem))\n",
    "    print(\"###########\")\n",
    "    print(\"unfortunately no solution has been found!\")\n",
    "    return None"
   ]
  },
  {
   "cell_type": "markdown",
   "metadata": {},
   "source": [
    "And here comes DFS. Again, check out the code, and look at the difference between the two implementations. "
   ]
  },
  {
   "cell_type": "code",
   "execution_count": null,
   "metadata": {},
   "outputs": [],
   "source": [
    "def depth_first_tree_search(problem):\n",
    "    \"\"\"\n",
    "    Search the deepest nodes in the search tree first.\n",
    "    Search through the successors of a problem to find a goal.\n",
    "    The argument fringe should be an empty queue.\n",
    "    Repeats infinitely in case of loops.\n",
    "    \"\"\"\n",
    "\n",
    "    fringe = [Node(problem.initial)]  # Stack\n",
    "    while fringe:\n",
    "        node = fringe.pop()\n",
    "        if problem.goal_test(node.state):\n",
    "            print(\"###########\")\n",
    "            print(\"succes!\")\n",
    "            print(\"solution: {}\".format(node.solution()))\n",
    "            return node\n",
    "        fringe.extend(node.expand(problem))\n",
    "    print(\"###########\")\n",
    "    print(\"unfortunately no solution has been found!\")\n",
    "    return None"
   ]
  },
  {
   "cell_type": "markdown",
   "metadata": {},
   "source": [
    "### Task 2\n",
    "Explain in your own words the difference between the implementations. Write your explanation into the following cell:"
   ]
  },
  {
   "cell_type": "markdown",
   "metadata": {},
   "source": []
  },
  {
   "cell_type": "markdown",
   "metadata": {},
   "source": [
    "The cell below generates the cards for your left and right hand."
   ]
  },
  {
   "cell_type": "code",
   "execution_count": null,
   "metadata": {},
   "outputs": [],
   "source": [
    "leftHand, rightHand = pick_cards(STUDENT_NUMBER, HAND_SIZE)\n",
    "\n",
    "\n",
    "print(\"Right hand: {}\".format(rightHand))\n",
    "print(\"Left hand: {}\".format(leftHand))"
   ]
  },
  {
   "cell_type": "markdown",
   "metadata": {},
   "source": [
    "## Constructing your own game\n",
    "\n",
    "Of course you don't have to (always) use random cards, you can also choose your own set of cards. \n",
    "Just make sure the numbers (integers) in the arrays are unique and between 0 and 19. Uncomment and define the variable values. Also make sure that the array is of correct size (according to the previous tasks)."
   ]
  },
  {
   "cell_type": "code",
   "execution_count": null,
   "metadata": {},
   "outputs": [],
   "source": [
    "HAND_SIZE = 6\n",
    "customLeftHand = [2, 8, 4, 13, 17, 5]\n",
    "customRightHand = [7, 11, 16, 6, 1, 9]"
   ]
  },
  {
   "cell_type": "markdown",
   "metadata": {},
   "source": [
    "Here we specify our initial state of the problem. Again, uncomment and fill in/correct the code. "
   ]
  },
  {
   "cell_type": "code",
   "execution_count": null,
   "metadata": {},
   "outputs": [],
   "source": [
    "initialState = GameState(customLeftHand, customRightHand, True, True)"
   ]
  },
  {
   "cell_type": "markdown",
   "metadata": {},
   "source": [
    "### Task 3\n",
    "Look in the utils file how you can print the state, \n",
    "and print the initial state below (make sure you've specified HAND_SIZE and STUDENT_NUMBER or the custom hands).\n",
    "\n",
    "Hint: to call a function from a class use class.function(paramaters) or if the class was previously called use variable.function(). For more information check https://www.geeksforgeeks.org/python-call-function-from-another-function/.\n"
   ]
  },
  {
   "cell_type": "code",
   "execution_count": null,
   "metadata": {},
   "outputs": [],
   "source": [
    "initialState.printState()"
   ]
  },
  {
   "cell_type": "markdown",
   "metadata": {},
   "source": [
    "This cell constructs the problem for your game."
   ]
  },
  {
   "cell_type": "code",
   "execution_count": null,
   "metadata": {},
   "outputs": [],
   "source": [
    "p = Problem(initialState)"
   ]
  },
  {
   "cell_type": "markdown",
   "metadata": {},
   "source": [
    "We can now run experiments on how long the search took by looking at the time difference in microseconds \n",
    "between the start and finish of the search.\n",
    "\n",
    "In case your game does not have a solution, you might want to try to run a custom-made set of hands as presented above."
   ]
  },
  {
   "cell_type": "code",
   "execution_count": null,
   "metadata": {},
   "outputs": [],
   "source": [
    "startTime = datetime.datetime.now()\n",
    "search = depth_first_tree_search(p)\n",
    "endTime = datetime.datetime.now()\n",
    "\n",
    "dfs_duration = endTime-startTime\n",
    "print(\"The search took {} microseconds for DFS\".format(dfs_duration.microseconds))\n",
    "\n",
    "startTime = datetime.datetime.now()\n",
    "search = breadth_first_tree_search(p)\n",
    "endTime = datetime.datetime.now()\n",
    "\n",
    "bfs_duration = endTime-startTime\n",
    "print(\"The search took {} microseconds for BFS\".format(bfs_duration.microseconds))\n",
    "\n",
    "if dfs_duration > bfs_duration:\n",
    "    print(\"###########\\nBFS was fater\")\n",
    "else:\n",
    "    print(\"###########\\nDFS was fater\")\n"
   ]
  },
  {
   "cell_type": "markdown",
   "metadata": {},
   "source": [
    "### Task 4\n",
    "\n",
    "In the next section a text file will be generated. To ensure all answers are saved into it, it is important to follow the instructions carefully, especially when naming the variables!"
   ]
  },
  {
   "cell_type": "markdown",
   "metadata": {},
   "source": [
    "Using the representation matrix of the cards, think of a combination of two hands for which no solution would be found (minimal hand size = 3).\n",
    "\n",
    "To save your solution, declare two lists, named “noLeft” and “noRight” and populate them with suitable cards."
   ]
  },
  {
   "cell_type": "code",
   "execution_count": null,
   "metadata": {},
   "outputs": [],
   "source": [
    "noLeft = [2, 5, 8, 11, 3, 13]\n",
    "noRight = [7, 18, 10, 16, 4, 1]\n",
    "initialState = GameState(noLeft, noRight, True, True)\n",
    "search = breadth_first_tree_search(Problem(initialState))"
   ]
  },
  {
   "cell_type": "markdown",
   "metadata": {},
   "source": [
    "### Task 5\n",
    "Implement a counter that counts how many nodes had to be generated before reaching a goal state. \n",
    "\n",
    "Run the Depth First Search algorithm based on your student number (set as seed) and hand size of 5. \n",
    "Have the algorithm return or print the counter. Save your solution in the variable below.\n",
    "\n",
    "Hint: take a look at the code of the algorithm and find where exactly the new node is generated."
   ]
  },
  {
   "cell_type": "code",
   "execution_count": null,
   "metadata": {
    "tags": []
   },
   "outputs": [],
   "source": [
    "def custom_depth_first_tree_search(problem):\n",
    "    fringe = [Node(problem.initial)]  # Stack\n",
    "    counter = 0\n",
    "    while fringe:\n",
    "        node = fringe.pop()\n",
    "        counter += 1\n",
    "        if problem.goal_test(node.state):\n",
    "            print(\"###########\")\n",
    "            print(\"succes!\")\n",
    "            print(\"solution: {}\".format(node.solution()))\n",
    "            return node, counter\n",
    "        fringe.extend(node.expand(problem))\n",
    "    print(\"###########\")\n",
    "    print(\"unfortunately no solution has been found!\")\n",
    "    return None\n",
    "\n",
    "HAND_SIZE = 5\n",
    "\n",
    "print(\"The student number did not generate hands for which a solution can be found.\")\n",
    "leftHand = [2, 8, 4, 17, 5]\n",
    "rightHand = [7, 11, 6, 1, 9]\n",
    "\n",
    "initialState = GameState(leftHand, rightHand, True, True)\n",
    "initialState.printState()\n",
    "\n",
    "p = Problem(initialState)\n",
    "search, nodeCount = custom_depth_first_tree_search(p)\n",
    "\n",
    "print(nodeCount, \"nodes have been generated before reaching the solution.\")"
   ]
  },
  {
   "cell_type": "markdown",
   "metadata": {},
   "source": [
    "### Task 6\n",
    "\n",
    "Report briefly on if (and if so, how):\n",
    "\n",
    "    * a) changing the order of the cards in your hand\n",
    "    * b) choosing depth first or breadth first search\n",
    "    \n",
    "   ...individually and combined have an influence on the running time and nodes generated. \n",
    "   Save this (brief!) report in a multi line string variable named “myReport”.\n",
    "   \n",
    "   Note: If your student number does not generate hands for which a solution can be found, \n",
    "   pick a custom hand (be sure to implement it above, and run all the cells again to make sure it gets executed properly)."
   ]
  },
  {
   "cell_type": "code",
   "execution_count": null,
   "metadata": {},
   "outputs": [],
   "source": [
    "#myReport = \"\"\"Please write here 10 sentences at most\"\"\""
   ]
  },
  {
   "cell_type": "markdown",
   "metadata": {},
   "source": [
    "### Task 7\n",
    "\n",
    "Using the representation of the cards and your knowledge of the search algorithms, \n",
    "define a pair of hands that will be faster with depth first search (hand size = 3).\n",
    "    \n",
    "Save your solution by declaring 2 lists named \"DFSL\" (left hand) and \"DFSR\" (right hand)."
   ]
  },
  {
   "cell_type": "code",
   "execution_count": null,
   "metadata": {},
   "outputs": [],
   "source": [
    "HAND_SIZE = 5\n",
    "\n",
    "#DFSL = \n",
    "#DFSR = "
   ]
  },
  {
   "cell_type": "markdown",
   "metadata": {},
   "source": [
    "### Task 8\n",
    "\n",
    "Explain why it is not possible to define a pair of hands such that Breadth First Search is faster than Depth First Search. Save your (brief) explanation as a multi-line string in the variable below"
   ]
  },
  {
   "cell_type": "code",
   "execution_count": null,
   "metadata": {},
   "outputs": [],
   "source": [
    " #MyReport2 = \"\"\"Please write here 5 sentences at most\"\"\""
   ]
  },
  {
   "cell_type": "markdown",
   "metadata": {},
   "source": [
    "### Final Task: Collect all the results\n",
    "\n",
    "Uncomment and run this cell (and all the cells above) to generate the text file that you have to hand in together with the notebook on canvas!"
   ]
  },
  {
   "cell_type": "code",
   "execution_count": null,
   "metadata": {},
   "outputs": [],
   "source": [
    "#exportToText(STUDENT_NUMBER, noLeft, noRight, nodeCount, myReport, DFSL, DFSR, MyReport2)"
   ]
  },
  {
   "cell_type": "markdown",
   "metadata": {},
   "source": []
  }
 ],
 "metadata": {
  "kernelspec": {
   "display_name": "Python 3.8.1 64-bit",
   "language": "python",
   "name": "python38164bit4531da3462464465a8c5836a34dda191"
  },
  "language_info": {
   "codemirror_mode": {
    "name": "ipython",
    "version": 3
   },
   "file_extension": ".py",
   "mimetype": "text/x-python",
   "name": "python",
   "nbconvert_exporter": "python",
   "pygments_lexer": "ipython3",
   "version": "3.8.1-final"
  }
 },
 "nbformat": 4,
 "nbformat_minor": 4
}